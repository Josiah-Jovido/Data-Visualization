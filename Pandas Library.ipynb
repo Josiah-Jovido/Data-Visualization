{
 "cells": [
  {
   "cell_type": "markdown",
   "metadata": {},
   "source": [
    "# Pandas Library\n"
   ]
  },
  {
   "cell_type": "markdown",
   "metadata": {},
   "source": [
    "## What is Pandas\n",
    "\n",
    "* Python library for data analysis\n",
    "\n",
    "* High-performance containers for data analysis\n",
    "\n",
    "* Data structures with a lot of functionality\n",
    "\n",
    "* meaningful labels\n",
    "\n",
    "* Time series functionality\n",
    "\n",
    "* Handling missing data\n",
    "\n",
    "* Relational operations\n",
    "\n",
    "### The Data used for this analysis was gotten from Yahoo Finance Apple.Inc Stock Data."
   ]
  },
  {
   "cell_type": "code",
   "execution_count": 1,
   "metadata": {},
   "outputs": [],
   "source": [
    "import pandas as pd"
   ]
  },
  {
   "cell_type": "markdown",
   "metadata": {},
   "source": [
    "### Indexes and Columns"
   ]
  },
  {
   "cell_type": "code",
   "execution_count": 2,
   "metadata": {},
   "outputs": [
    {
     "data": {
      "text/html": [
       "<div>\n",
       "<style scoped>\n",
       "    .dataframe tbody tr th:only-of-type {\n",
       "        vertical-align: middle;\n",
       "    }\n",
       "\n",
       "    .dataframe tbody tr th {\n",
       "        vertical-align: top;\n",
       "    }\n",
       "\n",
       "    .dataframe thead th {\n",
       "        text-align: right;\n",
       "    }\n",
       "</style>\n",
       "<table border=\"1\" class=\"dataframe\">\n",
       "  <thead>\n",
       "    <tr style=\"text-align: right;\">\n",
       "      <th></th>\n",
       "      <th>Date</th>\n",
       "      <th>Open</th>\n",
       "      <th>High</th>\n",
       "      <th>Low</th>\n",
       "      <th>Close</th>\n",
       "      <th>Adj Close</th>\n",
       "      <th>Volume</th>\n",
       "    </tr>\n",
       "  </thead>\n",
       "  <tbody>\n",
       "    <tr>\n",
       "      <th>0</th>\n",
       "      <td>2019-10-30</td>\n",
       "      <td>61.189999</td>\n",
       "      <td>61.325001</td>\n",
       "      <td>60.302502</td>\n",
       "      <td>60.814999</td>\n",
       "      <td>60.217525</td>\n",
       "      <td>124522000</td>\n",
       "    </tr>\n",
       "    <tr>\n",
       "      <th>1</th>\n",
       "      <td>2019-10-31</td>\n",
       "      <td>61.810001</td>\n",
       "      <td>62.292500</td>\n",
       "      <td>59.314999</td>\n",
       "      <td>62.189999</td>\n",
       "      <td>61.579021</td>\n",
       "      <td>139162000</td>\n",
       "    </tr>\n",
       "    <tr>\n",
       "      <th>2</th>\n",
       "      <td>2019-11-01</td>\n",
       "      <td>62.384998</td>\n",
       "      <td>63.982498</td>\n",
       "      <td>62.290001</td>\n",
       "      <td>63.955002</td>\n",
       "      <td>63.326683</td>\n",
       "      <td>151125200</td>\n",
       "    </tr>\n",
       "    <tr>\n",
       "      <th>3</th>\n",
       "      <td>2019-11-04</td>\n",
       "      <td>64.332497</td>\n",
       "      <td>64.462502</td>\n",
       "      <td>63.845001</td>\n",
       "      <td>64.375000</td>\n",
       "      <td>63.742554</td>\n",
       "      <td>103272000</td>\n",
       "    </tr>\n",
       "    <tr>\n",
       "      <th>4</th>\n",
       "      <td>2019-11-05</td>\n",
       "      <td>64.262497</td>\n",
       "      <td>64.547501</td>\n",
       "      <td>64.080002</td>\n",
       "      <td>64.282501</td>\n",
       "      <td>63.650970</td>\n",
       "      <td>79897600</td>\n",
       "    </tr>\n",
       "  </tbody>\n",
       "</table>\n",
       "</div>"
      ],
      "text/plain": [
       "         Date       Open       High        Low      Close  Adj Close  \\\n",
       "0  2019-10-30  61.189999  61.325001  60.302502  60.814999  60.217525   \n",
       "1  2019-10-31  61.810001  62.292500  59.314999  62.189999  61.579021   \n",
       "2  2019-11-01  62.384998  63.982498  62.290001  63.955002  63.326683   \n",
       "3  2019-11-04  64.332497  64.462502  63.845001  64.375000  63.742554   \n",
       "4  2019-11-05  64.262497  64.547501  64.080002  64.282501  63.650970   \n",
       "\n",
       "      Volume  \n",
       "0  124522000  \n",
       "1  139162000  \n",
       "2  151125200  \n",
       "3  103272000  \n",
       "4   79897600  "
      ]
     },
     "execution_count": 2,
     "metadata": {},
     "output_type": "execute_result"
    }
   ],
   "source": [
    "AAPL = pd.read_csv('AAPL.csv')\n",
    "AAPL.head()"
   ]
  },
  {
   "cell_type": "code",
   "execution_count": 3,
   "metadata": {},
   "outputs": [
    {
     "data": {
      "text/plain": [
       "pandas.core.frame.DataFrame"
      ]
     },
     "execution_count": 3,
     "metadata": {},
     "output_type": "execute_result"
    }
   ],
   "source": [
    "type(AAPL)"
   ]
  },
  {
   "cell_type": "code",
   "execution_count": 4,
   "metadata": {},
   "outputs": [
    {
     "data": {
      "text/plain": [
       "(253, 7)"
      ]
     },
     "execution_count": 4,
     "metadata": {},
     "output_type": "execute_result"
    }
   ],
   "source": [
    "AAPL.shape"
   ]
  },
  {
   "cell_type": "code",
   "execution_count": 5,
   "metadata": {},
   "outputs": [
    {
     "data": {
      "text/plain": [
       "Index(['Date', 'Open', 'High', 'Low', 'Close', 'Adj Close', 'Volume'], dtype='object')"
      ]
     },
     "execution_count": 5,
     "metadata": {},
     "output_type": "execute_result"
    }
   ],
   "source": [
    "AAPL.columns"
   ]
  },
  {
   "cell_type": "code",
   "execution_count": 7,
   "metadata": {},
   "outputs": [
    {
     "data": {
      "text/plain": [
       "pandas.core.indexes.base.Index"
      ]
     },
     "execution_count": 7,
     "metadata": {},
     "output_type": "execute_result"
    }
   ],
   "source": [
    "type(AAPL.columns)"
   ]
  },
  {
   "cell_type": "code",
   "execution_count": 8,
   "metadata": {},
   "outputs": [
    {
     "data": {
      "text/plain": [
       "RangeIndex(start=0, stop=253, step=1)"
      ]
     },
     "execution_count": 8,
     "metadata": {},
     "output_type": "execute_result"
    }
   ],
   "source": [
    "AAPL.index"
   ]
  },
  {
   "cell_type": "code",
   "execution_count": 9,
   "metadata": {},
   "outputs": [
    {
     "data": {
      "text/plain": [
       "pandas.core.indexes.range.RangeIndex"
      ]
     },
     "execution_count": 9,
     "metadata": {},
     "output_type": "execute_result"
    }
   ],
   "source": [
    "type(AAPL.index)"
   ]
  },
  {
   "cell_type": "markdown",
   "metadata": {},
   "source": [
    "### Data Slicing"
   ]
  },
  {
   "cell_type": "code",
   "execution_count": 10,
   "metadata": {},
   "outputs": [
    {
     "data": {
      "text/html": [
       "<div>\n",
       "<style scoped>\n",
       "    .dataframe tbody tr th:only-of-type {\n",
       "        vertical-align: middle;\n",
       "    }\n",
       "\n",
       "    .dataframe tbody tr th {\n",
       "        vertical-align: top;\n",
       "    }\n",
       "\n",
       "    .dataframe thead th {\n",
       "        text-align: right;\n",
       "    }\n",
       "</style>\n",
       "<table border=\"1\" class=\"dataframe\">\n",
       "  <thead>\n",
       "    <tr style=\"text-align: right;\">\n",
       "      <th></th>\n",
       "      <th>Date</th>\n",
       "      <th>Open</th>\n",
       "      <th>High</th>\n",
       "      <th>Low</th>\n",
       "      <th>Close</th>\n",
       "      <th>Adj Close</th>\n",
       "      <th>Volume</th>\n",
       "    </tr>\n",
       "  </thead>\n",
       "  <tbody>\n",
       "    <tr>\n",
       "      <th>0</th>\n",
       "      <td>2019-10-30</td>\n",
       "      <td>61.189999</td>\n",
       "      <td>61.325001</td>\n",
       "      <td>60.302502</td>\n",
       "      <td>60.814999</td>\n",
       "      <td>60.217525</td>\n",
       "      <td>124522000</td>\n",
       "    </tr>\n",
       "    <tr>\n",
       "      <th>1</th>\n",
       "      <td>2019-10-31</td>\n",
       "      <td>61.810001</td>\n",
       "      <td>62.292500</td>\n",
       "      <td>59.314999</td>\n",
       "      <td>62.189999</td>\n",
       "      <td>61.579021</td>\n",
       "      <td>139162000</td>\n",
       "    </tr>\n",
       "    <tr>\n",
       "      <th>2</th>\n",
       "      <td>2019-11-01</td>\n",
       "      <td>62.384998</td>\n",
       "      <td>63.982498</td>\n",
       "      <td>62.290001</td>\n",
       "      <td>63.955002</td>\n",
       "      <td>63.326683</td>\n",
       "      <td>151125200</td>\n",
       "    </tr>\n",
       "    <tr>\n",
       "      <th>3</th>\n",
       "      <td>2019-11-04</td>\n",
       "      <td>64.332497</td>\n",
       "      <td>64.462502</td>\n",
       "      <td>63.845001</td>\n",
       "      <td>64.375000</td>\n",
       "      <td>63.742554</td>\n",
       "      <td>103272000</td>\n",
       "    </tr>\n",
       "    <tr>\n",
       "      <th>4</th>\n",
       "      <td>2019-11-05</td>\n",
       "      <td>64.262497</td>\n",
       "      <td>64.547501</td>\n",
       "      <td>64.080002</td>\n",
       "      <td>64.282501</td>\n",
       "      <td>63.650970</td>\n",
       "      <td>79897600</td>\n",
       "    </tr>\n",
       "  </tbody>\n",
       "</table>\n",
       "</div>"
      ],
      "text/plain": [
       "         Date       Open       High        Low      Close  Adj Close  \\\n",
       "0  2019-10-30  61.189999  61.325001  60.302502  60.814999  60.217525   \n",
       "1  2019-10-31  61.810001  62.292500  59.314999  62.189999  61.579021   \n",
       "2  2019-11-01  62.384998  63.982498  62.290001  63.955002  63.326683   \n",
       "3  2019-11-04  64.332497  64.462502  63.845001  64.375000  63.742554   \n",
       "4  2019-11-05  64.262497  64.547501  64.080002  64.282501  63.650970   \n",
       "\n",
       "      Volume  \n",
       "0  124522000  \n",
       "1  139162000  \n",
       "2  151125200  \n",
       "3  103272000  \n",
       "4   79897600  "
      ]
     },
     "execution_count": 10,
     "metadata": {},
     "output_type": "execute_result"
    }
   ],
   "source": [
    "AAPL.iloc[:5,:]"
   ]
  },
  {
   "cell_type": "code",
   "execution_count": 11,
   "metadata": {},
   "outputs": [
    {
     "data": {
      "text/html": [
       "<div>\n",
       "<style scoped>\n",
       "    .dataframe tbody tr th:only-of-type {\n",
       "        vertical-align: middle;\n",
       "    }\n",
       "\n",
       "    .dataframe tbody tr th {\n",
       "        vertical-align: top;\n",
       "    }\n",
       "\n",
       "    .dataframe thead th {\n",
       "        text-align: right;\n",
       "    }\n",
       "</style>\n",
       "<table border=\"1\" class=\"dataframe\">\n",
       "  <thead>\n",
       "    <tr style=\"text-align: right;\">\n",
       "      <th></th>\n",
       "      <th>Date</th>\n",
       "      <th>Open</th>\n",
       "      <th>High</th>\n",
       "      <th>Low</th>\n",
       "      <th>Close</th>\n",
       "      <th>Adj Close</th>\n",
       "      <th>Volume</th>\n",
       "    </tr>\n",
       "  </thead>\n",
       "  <tbody>\n",
       "    <tr>\n",
       "      <th>248</th>\n",
       "      <td>2020-10-23</td>\n",
       "      <td>116.389999</td>\n",
       "      <td>116.550003</td>\n",
       "      <td>114.279999</td>\n",
       "      <td>115.040001</td>\n",
       "      <td>115.040001</td>\n",
       "      <td>82572600</td>\n",
       "    </tr>\n",
       "    <tr>\n",
       "      <th>249</th>\n",
       "      <td>2020-10-26</td>\n",
       "      <td>114.010002</td>\n",
       "      <td>116.550003</td>\n",
       "      <td>112.879997</td>\n",
       "      <td>115.050003</td>\n",
       "      <td>115.050003</td>\n",
       "      <td>111850700</td>\n",
       "    </tr>\n",
       "    <tr>\n",
       "      <th>250</th>\n",
       "      <td>2020-10-27</td>\n",
       "      <td>115.489998</td>\n",
       "      <td>117.279999</td>\n",
       "      <td>114.540001</td>\n",
       "      <td>116.599998</td>\n",
       "      <td>116.599998</td>\n",
       "      <td>92276800</td>\n",
       "    </tr>\n",
       "    <tr>\n",
       "      <th>251</th>\n",
       "      <td>2020-10-28</td>\n",
       "      <td>115.050003</td>\n",
       "      <td>115.430000</td>\n",
       "      <td>111.099998</td>\n",
       "      <td>111.199997</td>\n",
       "      <td>111.199997</td>\n",
       "      <td>143937800</td>\n",
       "    </tr>\n",
       "    <tr>\n",
       "      <th>252</th>\n",
       "      <td>2020-10-29</td>\n",
       "      <td>112.370003</td>\n",
       "      <td>116.930000</td>\n",
       "      <td>112.199997</td>\n",
       "      <td>115.320000</td>\n",
       "      <td>115.320000</td>\n",
       "      <td>143850900</td>\n",
       "    </tr>\n",
       "  </tbody>\n",
       "</table>\n",
       "</div>"
      ],
      "text/plain": [
       "           Date        Open        High         Low       Close   Adj Close  \\\n",
       "248  2020-10-23  116.389999  116.550003  114.279999  115.040001  115.040001   \n",
       "249  2020-10-26  114.010002  116.550003  112.879997  115.050003  115.050003   \n",
       "250  2020-10-27  115.489998  117.279999  114.540001  116.599998  116.599998   \n",
       "251  2020-10-28  115.050003  115.430000  111.099998  111.199997  111.199997   \n",
       "252  2020-10-29  112.370003  116.930000  112.199997  115.320000  115.320000   \n",
       "\n",
       "        Volume  \n",
       "248   82572600  \n",
       "249  111850700  \n",
       "250   92276800  \n",
       "251  143937800  \n",
       "252  143850900  "
      ]
     },
     "execution_count": 11,
     "metadata": {},
     "output_type": "execute_result"
    }
   ],
   "source": [
    "AAPL.iloc[-5:,:]"
   ]
  },
  {
   "cell_type": "markdown",
   "metadata": {},
   "source": [
    "### Head()"
   ]
  },
  {
   "cell_type": "code",
   "execution_count": 12,
   "metadata": {},
   "outputs": [
    {
     "data": {
      "text/html": [
       "<div>\n",
       "<style scoped>\n",
       "    .dataframe tbody tr th:only-of-type {\n",
       "        vertical-align: middle;\n",
       "    }\n",
       "\n",
       "    .dataframe tbody tr th {\n",
       "        vertical-align: top;\n",
       "    }\n",
       "\n",
       "    .dataframe thead th {\n",
       "        text-align: right;\n",
       "    }\n",
       "</style>\n",
       "<table border=\"1\" class=\"dataframe\">\n",
       "  <thead>\n",
       "    <tr style=\"text-align: right;\">\n",
       "      <th></th>\n",
       "      <th>Date</th>\n",
       "      <th>Open</th>\n",
       "      <th>High</th>\n",
       "      <th>Low</th>\n",
       "      <th>Close</th>\n",
       "      <th>Adj Close</th>\n",
       "      <th>Volume</th>\n",
       "    </tr>\n",
       "  </thead>\n",
       "  <tbody>\n",
       "    <tr>\n",
       "      <th>0</th>\n",
       "      <td>2019-10-30</td>\n",
       "      <td>61.189999</td>\n",
       "      <td>61.325001</td>\n",
       "      <td>60.302502</td>\n",
       "      <td>60.814999</td>\n",
       "      <td>60.217525</td>\n",
       "      <td>124522000</td>\n",
       "    </tr>\n",
       "    <tr>\n",
       "      <th>1</th>\n",
       "      <td>2019-10-31</td>\n",
       "      <td>61.810001</td>\n",
       "      <td>62.292500</td>\n",
       "      <td>59.314999</td>\n",
       "      <td>62.189999</td>\n",
       "      <td>61.579021</td>\n",
       "      <td>139162000</td>\n",
       "    </tr>\n",
       "    <tr>\n",
       "      <th>2</th>\n",
       "      <td>2019-11-01</td>\n",
       "      <td>62.384998</td>\n",
       "      <td>63.982498</td>\n",
       "      <td>62.290001</td>\n",
       "      <td>63.955002</td>\n",
       "      <td>63.326683</td>\n",
       "      <td>151125200</td>\n",
       "    </tr>\n",
       "    <tr>\n",
       "      <th>3</th>\n",
       "      <td>2019-11-04</td>\n",
       "      <td>64.332497</td>\n",
       "      <td>64.462502</td>\n",
       "      <td>63.845001</td>\n",
       "      <td>64.375000</td>\n",
       "      <td>63.742554</td>\n",
       "      <td>103272000</td>\n",
       "    </tr>\n",
       "    <tr>\n",
       "      <th>4</th>\n",
       "      <td>2019-11-05</td>\n",
       "      <td>64.262497</td>\n",
       "      <td>64.547501</td>\n",
       "      <td>64.080002</td>\n",
       "      <td>64.282501</td>\n",
       "      <td>63.650970</td>\n",
       "      <td>79897600</td>\n",
       "    </tr>\n",
       "  </tbody>\n",
       "</table>\n",
       "</div>"
      ],
      "text/plain": [
       "         Date       Open       High        Low      Close  Adj Close  \\\n",
       "0  2019-10-30  61.189999  61.325001  60.302502  60.814999  60.217525   \n",
       "1  2019-10-31  61.810001  62.292500  59.314999  62.189999  61.579021   \n",
       "2  2019-11-01  62.384998  63.982498  62.290001  63.955002  63.326683   \n",
       "3  2019-11-04  64.332497  64.462502  63.845001  64.375000  63.742554   \n",
       "4  2019-11-05  64.262497  64.547501  64.080002  64.282501  63.650970   \n",
       "\n",
       "      Volume  \n",
       "0  124522000  \n",
       "1  139162000  \n",
       "2  151125200  \n",
       "3  103272000  \n",
       "4   79897600  "
      ]
     },
     "execution_count": 12,
     "metadata": {},
     "output_type": "execute_result"
    }
   ],
   "source": [
    "AAPL.head(5)"
   ]
  },
  {
   "cell_type": "code",
   "execution_count": 13,
   "metadata": {},
   "outputs": [
    {
     "data": {
      "text/html": [
       "<div>\n",
       "<style scoped>\n",
       "    .dataframe tbody tr th:only-of-type {\n",
       "        vertical-align: middle;\n",
       "    }\n",
       "\n",
       "    .dataframe tbody tr th {\n",
       "        vertical-align: top;\n",
       "    }\n",
       "\n",
       "    .dataframe thead th {\n",
       "        text-align: right;\n",
       "    }\n",
       "</style>\n",
       "<table border=\"1\" class=\"dataframe\">\n",
       "  <thead>\n",
       "    <tr style=\"text-align: right;\">\n",
       "      <th></th>\n",
       "      <th>Date</th>\n",
       "      <th>Open</th>\n",
       "      <th>High</th>\n",
       "      <th>Low</th>\n",
       "      <th>Close</th>\n",
       "      <th>Adj Close</th>\n",
       "      <th>Volume</th>\n",
       "    </tr>\n",
       "  </thead>\n",
       "  <tbody>\n",
       "    <tr>\n",
       "      <th>0</th>\n",
       "      <td>2019-10-30</td>\n",
       "      <td>61.189999</td>\n",
       "      <td>61.325001</td>\n",
       "      <td>60.302502</td>\n",
       "      <td>60.814999</td>\n",
       "      <td>60.217525</td>\n",
       "      <td>124522000</td>\n",
       "    </tr>\n",
       "    <tr>\n",
       "      <th>1</th>\n",
       "      <td>2019-10-31</td>\n",
       "      <td>61.810001</td>\n",
       "      <td>62.292500</td>\n",
       "      <td>59.314999</td>\n",
       "      <td>62.189999</td>\n",
       "      <td>61.579021</td>\n",
       "      <td>139162000</td>\n",
       "    </tr>\n",
       "  </tbody>\n",
       "</table>\n",
       "</div>"
      ],
      "text/plain": [
       "         Date       Open       High        Low      Close  Adj Close  \\\n",
       "0  2019-10-30  61.189999  61.325001  60.302502  60.814999  60.217525   \n",
       "1  2019-10-31  61.810001  62.292500  59.314999  62.189999  61.579021   \n",
       "\n",
       "      Volume  \n",
       "0  124522000  \n",
       "1  139162000  "
      ]
     },
     "execution_count": 13,
     "metadata": {},
     "output_type": "execute_result"
    }
   ],
   "source": [
    "AAPL.head(2)"
   ]
  },
  {
   "cell_type": "markdown",
   "metadata": {},
   "source": [
    "### Tail()"
   ]
  },
  {
   "cell_type": "code",
   "execution_count": 14,
   "metadata": {},
   "outputs": [
    {
     "data": {
      "text/html": [
       "<div>\n",
       "<style scoped>\n",
       "    .dataframe tbody tr th:only-of-type {\n",
       "        vertical-align: middle;\n",
       "    }\n",
       "\n",
       "    .dataframe tbody tr th {\n",
       "        vertical-align: top;\n",
       "    }\n",
       "\n",
       "    .dataframe thead th {\n",
       "        text-align: right;\n",
       "    }\n",
       "</style>\n",
       "<table border=\"1\" class=\"dataframe\">\n",
       "  <thead>\n",
       "    <tr style=\"text-align: right;\">\n",
       "      <th></th>\n",
       "      <th>Date</th>\n",
       "      <th>Open</th>\n",
       "      <th>High</th>\n",
       "      <th>Low</th>\n",
       "      <th>Close</th>\n",
       "      <th>Adj Close</th>\n",
       "      <th>Volume</th>\n",
       "    </tr>\n",
       "  </thead>\n",
       "  <tbody>\n",
       "    <tr>\n",
       "      <th>248</th>\n",
       "      <td>2020-10-23</td>\n",
       "      <td>116.389999</td>\n",
       "      <td>116.550003</td>\n",
       "      <td>114.279999</td>\n",
       "      <td>115.040001</td>\n",
       "      <td>115.040001</td>\n",
       "      <td>82572600</td>\n",
       "    </tr>\n",
       "    <tr>\n",
       "      <th>249</th>\n",
       "      <td>2020-10-26</td>\n",
       "      <td>114.010002</td>\n",
       "      <td>116.550003</td>\n",
       "      <td>112.879997</td>\n",
       "      <td>115.050003</td>\n",
       "      <td>115.050003</td>\n",
       "      <td>111850700</td>\n",
       "    </tr>\n",
       "    <tr>\n",
       "      <th>250</th>\n",
       "      <td>2020-10-27</td>\n",
       "      <td>115.489998</td>\n",
       "      <td>117.279999</td>\n",
       "      <td>114.540001</td>\n",
       "      <td>116.599998</td>\n",
       "      <td>116.599998</td>\n",
       "      <td>92276800</td>\n",
       "    </tr>\n",
       "    <tr>\n",
       "      <th>251</th>\n",
       "      <td>2020-10-28</td>\n",
       "      <td>115.050003</td>\n",
       "      <td>115.430000</td>\n",
       "      <td>111.099998</td>\n",
       "      <td>111.199997</td>\n",
       "      <td>111.199997</td>\n",
       "      <td>143937800</td>\n",
       "    </tr>\n",
       "    <tr>\n",
       "      <th>252</th>\n",
       "      <td>2020-10-29</td>\n",
       "      <td>112.370003</td>\n",
       "      <td>116.930000</td>\n",
       "      <td>112.199997</td>\n",
       "      <td>115.320000</td>\n",
       "      <td>115.320000</td>\n",
       "      <td>143850900</td>\n",
       "    </tr>\n",
       "  </tbody>\n",
       "</table>\n",
       "</div>"
      ],
      "text/plain": [
       "           Date        Open        High         Low       Close   Adj Close  \\\n",
       "248  2020-10-23  116.389999  116.550003  114.279999  115.040001  115.040001   \n",
       "249  2020-10-26  114.010002  116.550003  112.879997  115.050003  115.050003   \n",
       "250  2020-10-27  115.489998  117.279999  114.540001  116.599998  116.599998   \n",
       "251  2020-10-28  115.050003  115.430000  111.099998  111.199997  111.199997   \n",
       "252  2020-10-29  112.370003  116.930000  112.199997  115.320000  115.320000   \n",
       "\n",
       "        Volume  \n",
       "248   82572600  \n",
       "249  111850700  \n",
       "250   92276800  \n",
       "251  143937800  \n",
       "252  143850900  "
      ]
     },
     "execution_count": 14,
     "metadata": {},
     "output_type": "execute_result"
    }
   ],
   "source": [
    "AAPL.tail()"
   ]
  },
  {
   "cell_type": "code",
   "execution_count": 15,
   "metadata": {},
   "outputs": [
    {
     "data": {
      "text/html": [
       "<div>\n",
       "<style scoped>\n",
       "    .dataframe tbody tr th:only-of-type {\n",
       "        vertical-align: middle;\n",
       "    }\n",
       "\n",
       "    .dataframe tbody tr th {\n",
       "        vertical-align: top;\n",
       "    }\n",
       "\n",
       "    .dataframe thead th {\n",
       "        text-align: right;\n",
       "    }\n",
       "</style>\n",
       "<table border=\"1\" class=\"dataframe\">\n",
       "  <thead>\n",
       "    <tr style=\"text-align: right;\">\n",
       "      <th></th>\n",
       "      <th>Date</th>\n",
       "      <th>Open</th>\n",
       "      <th>High</th>\n",
       "      <th>Low</th>\n",
       "      <th>Close</th>\n",
       "      <th>Adj Close</th>\n",
       "      <th>Volume</th>\n",
       "    </tr>\n",
       "  </thead>\n",
       "  <tbody>\n",
       "    <tr>\n",
       "      <th>251</th>\n",
       "      <td>2020-10-28</td>\n",
       "      <td>115.050003</td>\n",
       "      <td>115.43</td>\n",
       "      <td>111.099998</td>\n",
       "      <td>111.199997</td>\n",
       "      <td>111.199997</td>\n",
       "      <td>143937800</td>\n",
       "    </tr>\n",
       "    <tr>\n",
       "      <th>252</th>\n",
       "      <td>2020-10-29</td>\n",
       "      <td>112.370003</td>\n",
       "      <td>116.93</td>\n",
       "      <td>112.199997</td>\n",
       "      <td>115.320000</td>\n",
       "      <td>115.320000</td>\n",
       "      <td>143850900</td>\n",
       "    </tr>\n",
       "  </tbody>\n",
       "</table>\n",
       "</div>"
      ],
      "text/plain": [
       "           Date        Open    High         Low       Close   Adj Close  \\\n",
       "251  2020-10-28  115.050003  115.43  111.099998  111.199997  111.199997   \n",
       "252  2020-10-29  112.370003  116.93  112.199997  115.320000  115.320000   \n",
       "\n",
       "        Volume  \n",
       "251  143937800  \n",
       "252  143850900  "
      ]
     },
     "execution_count": 15,
     "metadata": {},
     "output_type": "execute_result"
    }
   ],
   "source": [
    "AAPL.tail(2)"
   ]
  },
  {
   "cell_type": "markdown",
   "metadata": {},
   "source": [
    "### Info()"
   ]
  },
  {
   "cell_type": "code",
   "execution_count": 16,
   "metadata": {},
   "outputs": [
    {
     "name": "stdout",
     "output_type": "stream",
     "text": [
      "<class 'pandas.core.frame.DataFrame'>\n",
      "RangeIndex: 253 entries, 0 to 252\n",
      "Data columns (total 7 columns):\n",
      " #   Column     Non-Null Count  Dtype  \n",
      "---  ------     --------------  -----  \n",
      " 0   Date       253 non-null    object \n",
      " 1   Open       253 non-null    float64\n",
      " 2   High       253 non-null    float64\n",
      " 3   Low        253 non-null    float64\n",
      " 4   Close      253 non-null    float64\n",
      " 5   Adj Close  253 non-null    float64\n",
      " 6   Volume     253 non-null    int64  \n",
      "dtypes: float64(5), int64(1), object(1)\n",
      "memory usage: 14.0+ KB\n"
     ]
    }
   ],
   "source": [
    "AAPL.info()"
   ]
  },
  {
   "cell_type": "markdown",
   "metadata": {},
   "source": [
    "### Broadcasting"
   ]
  },
  {
   "cell_type": "code",
   "execution_count": 17,
   "metadata": {},
   "outputs": [],
   "source": [
    "import numpy as np"
   ]
  },
  {
   "cell_type": "markdown",
   "metadata": {},
   "source": [
    "Assigning scalar value to column slice broadcasts value to each row."
   ]
  },
  {
   "cell_type": "code",
   "execution_count": 18,
   "metadata": {},
   "outputs": [],
   "source": [
    "AAPL.iloc[::3, -1] = np.nan"
   ]
  },
  {
   "cell_type": "code",
   "execution_count": 19,
   "metadata": {},
   "outputs": [
    {
     "data": {
      "text/html": [
       "<div>\n",
       "<style scoped>\n",
       "    .dataframe tbody tr th:only-of-type {\n",
       "        vertical-align: middle;\n",
       "    }\n",
       "\n",
       "    .dataframe tbody tr th {\n",
       "        vertical-align: top;\n",
       "    }\n",
       "\n",
       "    .dataframe thead th {\n",
       "        text-align: right;\n",
       "    }\n",
       "</style>\n",
       "<table border=\"1\" class=\"dataframe\">\n",
       "  <thead>\n",
       "    <tr style=\"text-align: right;\">\n",
       "      <th></th>\n",
       "      <th>Date</th>\n",
       "      <th>Open</th>\n",
       "      <th>High</th>\n",
       "      <th>Low</th>\n",
       "      <th>Close</th>\n",
       "      <th>Adj Close</th>\n",
       "      <th>Volume</th>\n",
       "    </tr>\n",
       "  </thead>\n",
       "  <tbody>\n",
       "    <tr>\n",
       "      <th>0</th>\n",
       "      <td>2019-10-30</td>\n",
       "      <td>61.189999</td>\n",
       "      <td>61.325001</td>\n",
       "      <td>60.302502</td>\n",
       "      <td>60.814999</td>\n",
       "      <td>60.217525</td>\n",
       "      <td>NaN</td>\n",
       "    </tr>\n",
       "    <tr>\n",
       "      <th>1</th>\n",
       "      <td>2019-10-31</td>\n",
       "      <td>61.810001</td>\n",
       "      <td>62.292500</td>\n",
       "      <td>59.314999</td>\n",
       "      <td>62.189999</td>\n",
       "      <td>61.579021</td>\n",
       "      <td>139162000.0</td>\n",
       "    </tr>\n",
       "    <tr>\n",
       "      <th>2</th>\n",
       "      <td>2019-11-01</td>\n",
       "      <td>62.384998</td>\n",
       "      <td>63.982498</td>\n",
       "      <td>62.290001</td>\n",
       "      <td>63.955002</td>\n",
       "      <td>63.326683</td>\n",
       "      <td>151125200.0</td>\n",
       "    </tr>\n",
       "    <tr>\n",
       "      <th>3</th>\n",
       "      <td>2019-11-04</td>\n",
       "      <td>64.332497</td>\n",
       "      <td>64.462502</td>\n",
       "      <td>63.845001</td>\n",
       "      <td>64.375000</td>\n",
       "      <td>63.742554</td>\n",
       "      <td>NaN</td>\n",
       "    </tr>\n",
       "    <tr>\n",
       "      <th>4</th>\n",
       "      <td>2019-11-05</td>\n",
       "      <td>64.262497</td>\n",
       "      <td>64.547501</td>\n",
       "      <td>64.080002</td>\n",
       "      <td>64.282501</td>\n",
       "      <td>63.650970</td>\n",
       "      <td>79897600.0</td>\n",
       "    </tr>\n",
       "    <tr>\n",
       "      <th>5</th>\n",
       "      <td>2019-11-06</td>\n",
       "      <td>64.192497</td>\n",
       "      <td>64.372498</td>\n",
       "      <td>63.842499</td>\n",
       "      <td>64.309998</td>\n",
       "      <td>63.678192</td>\n",
       "      <td>75864400.0</td>\n",
       "    </tr>\n",
       "  </tbody>\n",
       "</table>\n",
       "</div>"
      ],
      "text/plain": [
       "         Date       Open       High        Low      Close  Adj Close  \\\n",
       "0  2019-10-30  61.189999  61.325001  60.302502  60.814999  60.217525   \n",
       "1  2019-10-31  61.810001  62.292500  59.314999  62.189999  61.579021   \n",
       "2  2019-11-01  62.384998  63.982498  62.290001  63.955002  63.326683   \n",
       "3  2019-11-04  64.332497  64.462502  63.845001  64.375000  63.742554   \n",
       "4  2019-11-05  64.262497  64.547501  64.080002  64.282501  63.650970   \n",
       "5  2019-11-06  64.192497  64.372498  63.842499  64.309998  63.678192   \n",
       "\n",
       "        Volume  \n",
       "0          NaN  \n",
       "1  139162000.0  \n",
       "2  151125200.0  \n",
       "3          NaN  \n",
       "4   79897600.0  \n",
       "5   75864400.0  "
      ]
     },
     "execution_count": 19,
     "metadata": {},
     "output_type": "execute_result"
    }
   ],
   "source": [
    "AAPL.head(6)"
   ]
  },
  {
   "cell_type": "code",
   "execution_count": 20,
   "metadata": {},
   "outputs": [
    {
     "name": "stdout",
     "output_type": "stream",
     "text": [
      "<class 'pandas.core.frame.DataFrame'>\n",
      "RangeIndex: 253 entries, 0 to 252\n",
      "Data columns (total 7 columns):\n",
      " #   Column     Non-Null Count  Dtype  \n",
      "---  ------     --------------  -----  \n",
      " 0   Date       253 non-null    object \n",
      " 1   Open       253 non-null    float64\n",
      " 2   High       253 non-null    float64\n",
      " 3   Low        253 non-null    float64\n",
      " 4   Close      253 non-null    float64\n",
      " 5   Adj Close  253 non-null    float64\n",
      " 6   Volume     168 non-null    float64\n",
      "dtypes: float64(6), object(1)\n",
      "memory usage: 14.0+ KB\n"
     ]
    }
   ],
   "source": [
    "AAPL.info()"
   ]
  },
  {
   "cell_type": "markdown",
   "metadata": {},
   "source": [
    "### Series\n",
    "Assigning the column series Low to a python variable 'low'"
   ]
  },
  {
   "cell_type": "code",
   "execution_count": 21,
   "metadata": {},
   "outputs": [],
   "source": [
    "low = AAPL['Low']"
   ]
  },
  {
   "cell_type": "code",
   "execution_count": 22,
   "metadata": {},
   "outputs": [
    {
     "data": {
      "text/plain": [
       "pandas.core.series.Series"
      ]
     },
     "execution_count": 22,
     "metadata": {},
     "output_type": "execute_result"
    }
   ],
   "source": [
    "type(low)"
   ]
  },
  {
   "cell_type": "code",
   "execution_count": 23,
   "metadata": {},
   "outputs": [
    {
     "data": {
      "text/plain": [
       "0    60.302502\n",
       "1    59.314999\n",
       "2    62.290001\n",
       "3    63.845001\n",
       "4    64.080002\n",
       "Name: Low, dtype: float64"
      ]
     },
     "execution_count": 23,
     "metadata": {},
     "output_type": "execute_result"
    }
   ],
   "source": [
    "low.head()"
   ]
  },
  {
   "cell_type": "code",
   "execution_count": 24,
   "metadata": {},
   "outputs": [],
   "source": [
    "lows = low.values"
   ]
  },
  {
   "cell_type": "code",
   "execution_count": 25,
   "metadata": {},
   "outputs": [
    {
     "data": {
      "text/plain": [
       "numpy.ndarray"
      ]
     },
     "execution_count": 25,
     "metadata": {},
     "output_type": "execute_result"
    }
   ],
   "source": [
    "type(lows)"
   ]
  },
  {
   "cell_type": "code",
   "execution_count": 26,
   "metadata": {},
   "outputs": [
    {
     "data": {
      "text/plain": [
       "array([ 60.302502,  59.314999,  62.290001,  63.845001,  64.080002,\n",
       "        63.842499,  64.527496,  64.212502,  64.57    ,  65.230003,\n",
       "        65.267502,  65.525002,  65.752502,  66.057503,  66.347504,\n",
       "        65.099998,  65.294998,  65.209999,  65.629997,  65.625   ,\n",
       "        66.327499,  66.474998,  65.862503,  64.072502,  65.169998,\n",
       "        65.682503,  66.824997,  66.227501,  66.464996,  67.125   ,\n",
       "        66.830002,  67.732498,  69.245003,  69.699997,  69.779999,\n",
       "        69.737503,  69.639999,  70.092499,  70.730003,  71.175003,\n",
       "        72.029999,  71.305   ,  72.379997,  73.797501,  74.125   ,\n",
       "        73.1875  ,  74.370003,  74.290001,  76.550003,  77.0625  ,\n",
       "        77.787498,  78.042503,  77.387497,  78.022499,  78.75    ,\n",
       "        79.      ,  79.327499,  78.912498,  79.379997,  76.220001,\n",
       "        78.047501,  80.345001,  79.6875  ,  77.072502,  75.555   ,\n",
       "        78.407501,  79.737503,  80.065002,  79.5     ,  78.462502,\n",
       "        79.677498,  80.3675  ,  80.837502,  80.712502,  78.652496,\n",
       "        80.      ,  79.552498,  77.625   ,  72.307503,  71.532501,\n",
       "        71.625   ,  68.239998,  64.092499,  69.43    ,  71.449997,\n",
       "        73.282501,  72.852501,  70.307503,  65.75    ,  67.342499,\n",
       "        67.964996,  62.      ,  63.237499,  60.      ,  59.599998,\n",
       "        59.279999,  60.6525  ,  57.      ,  53.1525  ,  58.575001,\n",
       "        61.075001,  61.59    ,  61.762501,  62.349998,  63.      ,\n",
       "        59.782501,  59.224998,  59.7425  ,  62.345001,  64.75    ,\n",
       "        65.307503,  66.175003,  66.457497,  69.512497,  70.157501,\n",
       "        70.587502,  69.214996,  69.212502,  66.357498,  68.050003,\n",
       "        68.717499,  69.25    ,  69.987503,  69.550003,  70.972504,\n",
       "        72.087502,  71.462502,  71.580002,  73.614998,  74.717499,\n",
       "        75.4925  ,  76.072502,  76.809998,  77.727501,  75.802498,\n",
       "        75.3825  ,  75.052498,  77.580002,  78.252502,  79.129997,\n",
       "        78.967499,  78.837502,  79.125   ,  78.272499,  78.907501,\n",
       "        79.1175  ,  79.302498,  79.732498,  80.574997,  80.195   ,\n",
       "        80.807503,  81.830002,  83.002502,  86.522499,  83.870003,\n",
       "        83.555   ,  83.144997,  86.18    ,  87.772499,  87.305   ,\n",
       "        86.287498,  87.787498,  90.567497,  89.629997,  89.392502,\n",
       "        88.254997,  87.82    ,  90.      ,  90.977501,  90.910004,\n",
       "        92.467499,  93.057503,  94.089996,  94.672501,  94.705002,\n",
       "        95.2575  ,  93.877502,  96.489998,  95.904999,  95.839996,\n",
       "        96.0625  ,  96.7425  ,  96.602501,  92.010002,  89.144997,\n",
       "        93.480003,  93.247498,  93.712502,  93.767502, 100.824997,\n",
       "       107.892502, 108.387497, 108.897499, 109.797501, 110.292503,\n",
       "       110.      , 109.107498, 110.297501, 113.927498, 113.044998,\n",
       "       113.962502, 114.0075  , 115.610001, 115.732498, 119.25    ,\n",
       "       123.9375  , 123.052498, 125.082497, 123.832497, 124.577499,\n",
       "       126.      , 130.529999, 127.      , 120.5     , 110.889999,\n",
       "       112.68    , 115.260002, 112.5     , 110.      , 112.800003,\n",
       "       113.610001, 112.040001, 108.709999, 106.089996, 103.099998,\n",
       "       109.160004, 106.769997, 105.      , 107.669998, 112.779999,\n",
       "       113.57    , 113.620003, 115.830002, 112.220001, 113.550003,\n",
       "       112.25    , 114.129997, 114.589996, 114.919998, 119.279999,\n",
       "       119.650002, 119.620003, 118.150002, 118.809998, 115.660004,\n",
       "       115.629997, 116.449997, 114.589996, 114.279999, 112.879997,\n",
       "       114.540001, 111.099998, 112.199997])"
      ]
     },
     "execution_count": 26,
     "metadata": {},
     "output_type": "execute_result"
    }
   ],
   "source": [
    "lows"
   ]
  }
 ],
 "metadata": {
  "kernelspec": {
   "display_name": "Python 3",
   "language": "python",
   "name": "python3"
  },
  "language_info": {
   "codemirror_mode": {
    "name": "ipython",
    "version": 3
   },
   "file_extension": ".py",
   "mimetype": "text/x-python",
   "name": "python",
   "nbconvert_exporter": "python",
   "pygments_lexer": "ipython3",
   "version": "3.8.3"
  }
 },
 "nbformat": 4,
 "nbformat_minor": 4
}
